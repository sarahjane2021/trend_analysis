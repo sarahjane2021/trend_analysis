{
 "cells": [
  {
   "cell_type": "markdown",
   "metadata": {},
   "source": [
    "# fetch data"
   ]
  },
  {
   "cell_type": "code",
   "execution_count": 117,
   "metadata": {},
   "outputs": [
    {
     "name": "stdout",
     "output_type": "stream",
     "text": [
      "Data saved to C:\\Users\\Sarah\\Desktop\\trend_analysis\\data\\water_pressure.csv\n"
     ]
    },
    {
     "name": "stderr",
     "output_type": "stream",
     "text": [
      "C:\\Users\\Sarah\\AppData\\Local\\Temp\\ipykernel_14284\\1108656560.py:24: DeprecationWarning: datetime.datetime.utcfromtimestamp() is deprecated and scheduled for removal in a future version. Use timezone-aware objects to represent datetimes in UTC: datetime.datetime.fromtimestamp(timestamp, datetime.UTC).\n",
      "  utc_time = datetime.utcfromtimestamp(timestamp / 1000)  #milliseconds to seconds\n"
     ]
    }
   ],
   "source": [
    "import requests\n",
    "import csv\n",
    "from datetime import datetime, timedelta\n",
    "\n",
    "api_url = \"https://neptune.kyogojo.com/api/statistics/get-multiple?stations=BSLG-003&days=1740441600000,1740528000000\"\n",
    "\n",
    "response = requests.get(api_url)\n",
    "data = response.json() \n",
    "\n",
    "pressure_data = data[\"payload\"][\"data\"][0][\"pressure\"]\n",
    "\n",
    "csv_filename = r\"C:\\Users\\Sarah\\Desktop\\trend_analysis\\data\\water_pressure.csv\"\n",
    "\n",
    "# save to CSV\n",
    "with open(csv_filename, mode=\"w\", newline=\"\") as file:\n",
    "    writer = csv.writer(file)\n",
    "    writer.writerow([\"value\", \"time\"])\n",
    "\n",
    "    for entry in pressure_data:\n",
    "        value = entry[\"value\"]\n",
    "        timestamp = entry[\"time\"]\n",
    "        \n",
    "        # convert UTC time to Philippine Standard Time (UTC+8)\n",
    "        utc_time = datetime.utcfromtimestamp(timestamp / 1000)  #milliseconds to seconds\n",
    "        pst_time = utc_time + timedelta(hours=8)  \n",
    "\n",
    "        formatted_time = pst_time.strftime(\"%Y-%m-%d %H:%M:%S\")    \n",
    "        writer.writerow([value, formatted_time])\n",
    "\n",
    "print(f\"Data saved to {csv_filename}\")\n"
   ]
  },
  {
   "cell_type": "markdown",
   "metadata": {},
   "source": [
    "# MERGE DATA"
   ]
  },
  {
   "cell_type": "code",
   "execution_count": 144,
   "metadata": {},
   "outputs": [
    {
     "name": "stdout",
     "output_type": "stream",
     "text": [
      "Value Range\n",
      "50-59    39371\n",
      "40-49    30563\n",
      "30-39    30093\n",
      "20-29    10734\n",
      "60-69      794\n",
      "11-19       32\n",
      "0-10         0\n",
      "70-79        0\n",
      "80-89        0\n",
      "Name: count, dtype: int64\n"
     ]
    }
   ],
   "source": [
    "import pandas as pd\n",
    "\n",
    "# Load the data BSLG-002\n",
    "file_path = r\"C:\\Users\\Sarah\\Desktop\\trend_analysis\\data\\BSLG-002-JAN-MAR.csv\"\n",
    "df = pd.read_csv(file_path)\n",
    "\n",
    "# Define the ranges\n",
    "bins = [0, 10, 20, 30, 40, 50, 60, 70, 80, 90]\n",
    "labels = ['0-10', '11-19', '20-29', '30-39', '40-49', '50-59', '60-69', '70-79', '80-89']\n",
    "\n",
    "# Create a new column for the ranges\n",
    "df['Value Range'] = pd.cut(df['value'], bins=bins, labels=labels, right=False)\n",
    "\n",
    "# Count occurrences in each range\n",
    "range_counts = df['Value Range'].value_counts()\n",
    "\n",
    "print(range_counts)\n"
   ]
  },
  {
   "cell_type": "code",
   "execution_count": 146,
   "metadata": {},
   "outputs": [
    {
     "name": "stdout",
     "output_type": "stream",
     "text": [
      "(122921, 2)\n",
      "Value Range\n",
      "30-39    65756\n",
      "20-29    46186\n",
      "11-19     6754\n",
      "40-49     4009\n",
      "0-10       118\n",
      "50-59       98\n",
      "60-69        0\n",
      "70-79        0\n",
      "80-89        0\n",
      "Name: count, dtype: int64\n"
     ]
    }
   ],
   "source": [
    "# Load the data BSLG-003\n",
    "file_path = r\"C:\\Users\\Sarah\\Desktop\\trend_analysis\\data\\BSLG-003-JAN-MAR.csv\"\n",
    "df = pd.read_csv(file_path)\n",
    "print(df.shape)\n",
    "# Define the ranges\n",
    "bins = [0, 10, 20, 30, 40, 50, 60, 70, 80, 90]\n",
    "labels = ['0-10', '11-19', '20-29', '30-39', '40-49', '50-59', '60-69', '70-79', '80-89']\n",
    "\n",
    "# Create a new column for the ranges\n",
    "df['Value Range'] = pd.cut(df['value'], bins=bins, labels=labels, right=False)\n",
    "\n",
    "# Count occurrences in each range\n",
    "range_counts = df['Value Range'].value_counts()\n",
    "\n",
    "print(range_counts)\n"
   ]
  },
  {
   "cell_type": "code",
   "execution_count": 203,
   "metadata": {},
   "outputs": [
    {
     "name": "stdout",
     "output_type": "stream",
     "text": [
      "Number of values retrieved: 76261\n",
      "Filtered data saved to: C:\\Users\\Sarah\\Desktop\\trend_analysis\\data\\filtered_BSLG-002.csv\n"
     ]
    }
   ],
   "source": [
    "import pandas as pd\n",
    "\n",
    "# Load data BSLG-002\n",
    "file_path_002 = r\"C:\\Users\\Sarah\\Desktop\\trend_analysis\\data\\BSLG-002-JAN-MARCH.csv\"\n",
    "df_002 = pd.read_csv(file_path_002)\n",
    "\n",
    "# Convert 'time' column to datetime format for proper filtering\n",
    "df_002['time'] = pd.to_datetime(df_002['time'])\n",
    "\n",
    "# Extract values within the specified ranges and filter 'time' from 2025-01 to 2025-02\n",
    "filtered_002 = df_002[\n",
    "    (((df_002[\"value\"] >= 40) & (df_002[\"value\"] <= 69)) |\n",
    "    ((df_002[\"value\"] >= 0) & (df_002[\"value\"] <= 29))) \n",
    "]\n",
    "\n",
    "# Count the number of rows in the filtered data\n",
    "count_filtered = filtered_002.shape[0]\n",
    "print(f\"Number of values retrieved: {count_filtered}\")\n",
    "\n",
    "# Save the filtered data to a CSV file\n",
    "filtered_file_path = r\"C:\\Users\\Sarah\\Desktop\\trend_analysis\\data\\filtered_BSLG-002.csv\"\n",
    "filtered_002.to_csv(filtered_file_path, index=False)\n",
    "print(f\"Filtered data saved to: {filtered_file_path}\")\n"
   ]
  },
  {
   "cell_type": "code",
   "execution_count": 203,
   "metadata": {},
   "outputs": [
    {
     "name": "stdout",
     "output_type": "stream",
     "text": [
      "Filtered BSLG-003:\n",
      "        value                 time\n",
      "37      28.35  2025-01-01 00:33:19\n",
      "38      27.75  2025-01-01 00:34:16\n",
      "39      27.28  2025-01-01 00:35:21\n",
      "40      26.24  2025-01-01 00:36:21\n",
      "41      25.74  2025-01-01 00:36:49\n",
      "...       ...                  ...\n",
      "122729  28.72  2025-03-19 21:23:05\n",
      "122733  28.74  2025-03-19 21:26:40\n",
      "122734  28.86  2025-03-19 21:27:40\n",
      "122735  28.90  2025-03-19 21:28:12\n",
      "122736  28.91  2025-03-19 21:29:14\n",
      "\n",
      "[43594 rows x 2 columns]\n",
      "BSLG-002 loaded successfully:\n",
      "        value                 time\n",
      "0       43.09  2025-01-01 00:00:21\n",
      "1       43.63  2025-01-01 00:01:21\n",
      "2       44.20  2025-01-01 00:02:21\n",
      "3       44.43  2025-01-01 00:03:21\n",
      "4       42.67  2025-01-01 00:04:21\n",
      "...       ...                  ...\n",
      "111582  32.57  2025-03-19 23:55:26\n",
      "111583  32.79  2025-03-19 23:56:26\n",
      "111584  33.15  2025-03-19 23:57:26\n",
      "111585  33.43  2025-03-19 23:58:26\n",
      "111586  33.63  2025-03-19 23:59:27\n",
      "\n",
      "[111587 rows x 2 columns]\n",
      "Merged Data:\n",
      "        value                 time\n",
      "0       28.35  2025-01-01 00:33:19\n",
      "1       27.75  2025-01-01 00:34:16\n",
      "2       27.28  2025-01-01 00:35:21\n",
      "3       26.24  2025-01-01 00:36:21\n",
      "4       25.74  2025-01-01 00:36:49\n",
      "...       ...                  ...\n",
      "155176  32.57  2025-03-19 23:55:26\n",
      "155177  32.79  2025-03-19 23:56:26\n",
      "155178  33.15  2025-03-19 23:57:26\n",
      "155179  33.43  2025-03-19 23:58:26\n",
      "155180  33.63  2025-03-19 23:59:27\n",
      "\n",
      "[155181 rows x 2 columns]\n",
      "Data merged and saved as C:\\Users\\Sarah\\Desktop\\trend_analysis\\data\\merge.csv\n"
     ]
    }
   ],
   "source": [
    "import pandas as pd\n",
    "\n",
    "# Load data BSLG-002\n",
    "file_path_003 = r\"C:\\Users\\Sarah\\Desktop\\trend_analysis\\data\\BSLG-003-JAN-MAR.csv\"\n",
    "df_003 = pd.read_csv(file_path_003)\n",
    "\n",
    "# Ensure 'value' column is in the DataFrame and filter data BSLG-002 by numeric ranges\n",
    "if 'value' in df_003.columns:\n",
    "    # Convert 'value' to numeric if needed\n",
    "    df_003['value'] = pd.to_numeric(df_003['value'], errors='coerce')\n",
    "\n",
    "    # Filter data within the ranges 1-19, 40-49, and 50-59\n",
    "    filtered_003 = df_003[\n",
    "        ((df_003[\"value\"] >= 1) & (df_003[\"value\"] <= 19)) |\n",
    "        ((df_003[\"value\"] >= 20) & (df_003[\"value\"] <= 29)) \n",
    "    ]\n",
    "    print(\"Filtered BSLG-003:\")\n",
    "    print(filtered_003)\n",
    "else:\n",
    "    print(\"Column 'value' not found in BSLG-003\")\n",
    "    filtered_003 = pd.DataFrame()\n",
    "\n",
    "# Load data BSLG-002\n",
    "file_path_002 = r\"C:\\Users\\Sarah\\Desktop\\trend_analysis\\data\\BSLG-002-JAN-MAR.csv\"\n",
    "df_002 = pd.read_csv(file_path_002)\n",
    "\n",
    "# Check the structure of BSLG-003\n",
    "if 'value' in df_002.columns:\n",
    "    print(\"BSLG-002 loaded successfully:\")\n",
    "    print(df_002)\n",
    "else:\n",
    "    print(\"Column 'value' not found in BSLG-003\")\n",
    "\n",
    "# Combine filtered data from BSLG-002 with all data from BSLG-003\n",
    "if not filtered_003.empty:\n",
    "    merged_data = pd.concat([filtered_003, df_002], ignore_index=True)\n",
    "    print(\"Merged Data:\")\n",
    "    print(merged_data)\n",
    "else:\n",
    "    print(\"No data from BSLG-002 to merge. Using only data from BSLG-003.\")\n",
    "    merged_data = df_003\n",
    "\n",
    "# Save to merge.csv\n",
    "merge_file_path = r\"C:\\Users\\Sarah\\Desktop\\trend_analysis\\data\\merge.csv\"\n",
    "merged_data.to_csv(merge_file_path, index=False)\n",
    "\n",
    "print(f\"Data merged and saved as {merge_file_path}\")\n"
   ]
  },
  {
   "cell_type": "code",
   "execution_count": 204,
   "metadata": {},
   "outputs": [
    {
     "name": "stdout",
     "output_type": "stream",
     "text": [
      "(155181, 2)\n",
      "Value Range\n",
      "20-29    49390\n",
      "50-59    39371\n",
      "40-49    30563\n",
      "30-39    30093\n",
      "11-19     4852\n",
      "60-69      794\n",
      "0-10       118\n",
      "70-79        0\n",
      "80-89        0\n",
      "Name: count, dtype: int64\n"
     ]
    }
   ],
   "source": [
    "# Load the data BSLG-003\n",
    "file_path = r\"C:\\Users\\Sarah\\Desktop\\trend_analysis\\data\\merge.csv\"\n",
    "df = pd.read_csv(file_path)\n",
    "print(df.shape)\n",
    "# Define the ranges\n",
    "bins = [0, 10, 20, 30, 40, 50, 60, 70, 80, 90]\n",
    "labels = ['0-10', '11-19', '20-29', '30-39', '40-49', '50-59', '60-69', '70-79', '80-89']\n",
    "\n",
    "# Create a new column for the ranges\n",
    "df['Value Range'] = pd.cut(df['value'], bins=bins, labels=labels, right=False)\n",
    "\n",
    "# Count occurrences in each range\n",
    "range_counts = df['Value Range'].value_counts()\n",
    "\n",
    "print(range_counts)\n"
   ]
  },
  {
   "cell_type": "markdown",
   "metadata": {},
   "source": [
    "#  data"
   ]
  },
  {
   "cell_type": "code",
   "execution_count": 217,
   "metadata": {},
   "outputs": [],
   "source": [
    "#importing required functiond from sklearn\n",
    "from sklearn.ensemble import RandomForestRegressor\n",
    "from sklearn.linear_model import LinearRegression\n",
    "from sklearn.ensemble import StackingRegressor\n",
    "from sklearn.model_selection import train_test_split\n",
    "from sklearn.preprocessing import StandardScaler\n",
    "from sklearn.pipeline import make_pipeline\n",
    "import pandas as pd"
   ]
  },
  {
   "cell_type": "code",
   "execution_count": 127,
   "metadata": {},
   "outputs": [
    {
     "data": {
      "text/html": [
       "<div>\n",
       "<style scoped>\n",
       "    .dataframe tbody tr th:only-of-type {\n",
       "        vertical-align: middle;\n",
       "    }\n",
       "\n",
       "    .dataframe tbody tr th {\n",
       "        vertical-align: top;\n",
       "    }\n",
       "\n",
       "    .dataframe thead th {\n",
       "        text-align: right;\n",
       "    }\n",
       "</style>\n",
       "<table border=\"1\" class=\"dataframe\">\n",
       "  <thead>\n",
       "    <tr style=\"text-align: right;\">\n",
       "      <th></th>\n",
       "      <th>value</th>\n",
       "      <th>time</th>\n",
       "      <th>Value Range</th>\n",
       "    </tr>\n",
       "  </thead>\n",
       "  <tbody>\n",
       "    <tr>\n",
       "      <th>0</th>\n",
       "      <td>43.09</td>\n",
       "      <td>2025-01-01 00:00:21</td>\n",
       "      <td>40-49</td>\n",
       "    </tr>\n",
       "    <tr>\n",
       "      <th>1</th>\n",
       "      <td>43.63</td>\n",
       "      <td>2025-01-01 00:01:21</td>\n",
       "      <td>40-49</td>\n",
       "    </tr>\n",
       "    <tr>\n",
       "      <th>2</th>\n",
       "      <td>44.2</td>\n",
       "      <td>2025-01-01 00:02:21</td>\n",
       "      <td>40-49</td>\n",
       "    </tr>\n",
       "    <tr>\n",
       "      <th>3</th>\n",
       "      <td>44.43</td>\n",
       "      <td>2025-01-01 00:03:21</td>\n",
       "      <td>40-49</td>\n",
       "    </tr>\n",
       "    <tr>\n",
       "      <th>4</th>\n",
       "      <td>42.67</td>\n",
       "      <td>2025-01-01 00:04:21</td>\n",
       "      <td>40-49</td>\n",
       "    </tr>\n",
       "  </tbody>\n",
       "</table>\n",
       "</div>"
      ],
      "text/plain": [
       "   value                 time Value Range\n",
       "0  43.09  2025-01-01 00:00:21       40-49\n",
       "1  43.63  2025-01-01 00:01:21       40-49\n",
       "2   44.2  2025-01-01 00:02:21       40-49\n",
       "3  44.43  2025-01-01 00:03:21       40-49\n",
       "4  42.67  2025-01-01 00:04:21       40-49"
      ]
     },
     "execution_count": 127,
     "metadata": {},
     "output_type": "execute_result"
    }
   ],
   "source": [
    "\n",
    "#BSLG-002-JAN-MAR\n",
    "#BSLG-003-JAN-MAR\n",
    "#merge"
   ]
  },
  {
   "cell_type": "code",
   "execution_count": 245,
   "metadata": {},
   "outputs": [
    {
     "data": {
      "text/html": [
       "<div>\n",
       "<style scoped>\n",
       "    .dataframe tbody tr th:only-of-type {\n",
       "        vertical-align: middle;\n",
       "    }\n",
       "\n",
       "    .dataframe tbody tr th {\n",
       "        vertical-align: top;\n",
       "    }\n",
       "\n",
       "    .dataframe thead th {\n",
       "        text-align: right;\n",
       "    }\n",
       "</style>\n",
       "<table border=\"1\" class=\"dataframe\">\n",
       "  <thead>\n",
       "    <tr style=\"text-align: right;\">\n",
       "      <th></th>\n",
       "      <th>value</th>\n",
       "      <th>time</th>\n",
       "    </tr>\n",
       "  </thead>\n",
       "  <tbody>\n",
       "    <tr>\n",
       "      <th>0</th>\n",
       "      <td>43.09</td>\n",
       "      <td>2025-01-01 00:00:21</td>\n",
       "    </tr>\n",
       "    <tr>\n",
       "      <th>1</th>\n",
       "      <td>43.63</td>\n",
       "      <td>2025-01-01 00:01:21</td>\n",
       "    </tr>\n",
       "    <tr>\n",
       "      <th>2</th>\n",
       "      <td>44.20</td>\n",
       "      <td>2025-01-01 00:02:21</td>\n",
       "    </tr>\n",
       "    <tr>\n",
       "      <th>3</th>\n",
       "      <td>44.43</td>\n",
       "      <td>2025-01-01 00:03:21</td>\n",
       "    </tr>\n",
       "    <tr>\n",
       "      <th>4</th>\n",
       "      <td>42.67</td>\n",
       "      <td>2025-01-01 00:04:21</td>\n",
       "    </tr>\n",
       "  </tbody>\n",
       "</table>\n",
       "</div>"
      ],
      "text/plain": [
       "   value                 time\n",
       "0  43.09  2025-01-01 00:00:21\n",
       "1  43.63  2025-01-01 00:01:21\n",
       "2  44.20  2025-01-01 00:02:21\n",
       "3  44.43  2025-01-01 00:03:21\n",
       "4  42.67  2025-01-01 00:04:21"
      ]
     },
     "execution_count": 245,
     "metadata": {},
     "output_type": "execute_result"
    }
   ],
   "source": [
    "file_path = r\"C:\\Users\\Sarah\\Desktop\\trend_analysis\\data\\merge.csv\"\n",
    "df = pd.read_csv(file_path)\n",
    "df.head()"
   ]
  },
  {
   "cell_type": "code",
   "execution_count": 246,
   "metadata": {},
   "outputs": [
    {
     "name": "stdout",
     "output_type": "stream",
     "text": [
      "Value Range\n",
      "30-39    95849\n",
      "20-29    56920\n",
      "50-59    39469\n",
      "40-49    34572\n",
      "11-19     6786\n",
      "60-69      794\n",
      "0-10       118\n",
      "70-79        0\n",
      "80-89        0\n",
      "Name: count, dtype: int64\n"
     ]
    },
    {
     "data": {
      "text/plain": [
       "'\\nValue Range\\n50-59    39371\\n40-49    30563\\n30-39    30093\\n20-29    10734\\n60-69      794\\n11-19       32\\n0-10         0\\n70-79        0\\n80-89        0\\nName: count, dtype: int64\\n'"
      ]
     },
     "execution_count": 246,
     "metadata": {},
     "output_type": "execute_result"
    }
   ],
   "source": [
    "\n",
    "# Define the ranges\n",
    "bins = [0, 10, 20, 30, 40, 50, 60, 70, 80, 90]\n",
    "labels = ['0-10', '11-19', '20-29', '30-39', '40-49', '50-59', '60-69', '70-79', '80-89']\n",
    "\n",
    "df['Value Range'] = pd.cut(df['value'], bins=bins, labels=labels, right=False)\n",
    "range_counts = df['Value Range'].value_counts()\n",
    "\n",
    "print(range_counts)\n",
    "\n",
    "\"\"\"\n",
    "Value Range\n",
    "50-59    39371\n",
    "40-49    30563\n",
    "30-39    30093\n",
    "20-29    10734\n",
    "60-69      794\n",
    "11-19       32\n",
    "0-10         0\n",
    "70-79        0\n",
    "80-89        0\n",
    "Name: count, dtype: int64\n",
    "\"\"\"\n"
   ]
  },
  {
   "cell_type": "code",
   "execution_count": 261,
   "metadata": {},
   "outputs": [
    {
     "name": "stdout",
     "output_type": "stream",
     "text": [
      "Rows dropped successfully!\n",
      "   value  year  month  day  hour  minute  second  millisecond\n",
      "0  43.09  2025      1    1     0       0      21            0\n",
      "2  43.63  2025      1    1     0       1      21            0\n",
      "3  40.18  2025      1    1     0       1      42            0\n",
      "4  44.20  2025      1    1     0       2      21            0\n",
      "5  40.87  2025      1    1     0       2      41            0\n"
     ]
    }
   ],
   "source": [
    "import pandas as pd\n",
    "\n",
    "# Assuming df is your DataFrame\n",
    "# Define the range filter\n",
    "condition = (df['value'] >= 30) & (df['value'] < 40)\n",
    "\n",
    "# Limit the number of rows to drop (e.g., up to 100 rows)\n",
    "rows_to_drop = df[condition].index[:56400]  # Change 100 to your desired number of rows\n",
    "\n",
    "# Drop the rows\n",
    "df = df.drop(rows_to_drop)\n",
    "\n",
    "print(\"Rows dropped successfully!\")\n",
    "print(df.head())  # Display the first few rows of the updated DataFrame\n",
    "# Save the updated DataFrame to a CSV file\n",
    "df.to_csv(r\"C:\\Users\\Sarah\\Desktop\\trend_analysis\\data\\merge2.csv\", index=False)"
   ]
  },
  {
   "cell_type": "code",
   "execution_count": 266,
   "metadata": {},
   "outputs": [
    {
     "name": "stdout",
     "output_type": "stream",
     "text": [
      "Value Range\n",
      "20-29    56920\n",
      "50-59    39469\n",
      "30-39    39449\n",
      "40-49    34572\n",
      "11-19     6786\n",
      "60-69      794\n",
      "0-10       118\n",
      "70-79        0\n",
      "80-89        0\n",
      "Name: count, dtype: int64\n"
     ]
    }
   ],
   "source": [
    "file_path = r\"C:\\Users\\Sarah\\Desktop\\trend_analysis\\data\\merge2.csv\"\n",
    "df = pd.read_csv(file_path)\n",
    "df.head()\n",
    "# Define the ranges\n",
    "bins = [0, 10, 20, 30, 40, 50, 60, 70, 80, 90]\n",
    "labels = ['0-10', '11-19', '20-29', '30-39', '40-49', '50-59', '60-69', '70-79', '80-89']\n",
    "\n",
    "df['Value Range'] = pd.cut(df['value'], bins=bins, labels=labels, right=False)\n",
    "range_counts = df['Value Range'].value_counts()\n",
    "\n",
    "print(range_counts)\n"
   ]
  },
  {
   "cell_type": "code",
   "execution_count": 267,
   "metadata": {},
   "outputs": [
    {
     "name": "stdout",
     "output_type": "stream",
     "text": [
      "(178108, 9)\n"
     ]
    }
   ],
   "source": [
    "\n",
    "print(df.shape)\n"
   ]
  },
  {
   "cell_type": "code",
   "execution_count": null,
   "metadata": {},
   "outputs": [],
   "source": [
    "# column to datetime\n",
    "df['time'] = pd.to_datetime(df['time'])\n",
    "\n",
    "# extract time features\n",
    "df['year'] = df['time'].dt.year\n",
    "df['month'] = df['time'].dt.month\n",
    "df['day'] = df['time'].dt.day\n",
    "df['hour'] = df['time'].dt.hour\n",
    "df['minute'] = df['time'].dt.minute\n",
    "df['second'] = df['time'].dt.second\n",
    "df['millisecond'] = df['time'].dt.microsecond // 1000  # microseconds to milliseconds\n",
    "\n",
    "# drop time column\n",
    "df.drop(columns=['time'], inplace=True)\n",
    "# drop time column\n",
    "df.drop(columns=['Value Range'], inplace=True)\n",
    "\n",
    "# Features (X), target variable (y)\n",
    "X = df.drop(columns=['value'])\n",
    "y = df['value']\n",
    "\n",
    "df.head()"
   ]
  },
  {
   "cell_type": "code",
   "execution_count": 269,
   "metadata": {},
   "outputs": [
    {
     "data": {
      "text/html": [
       "<div>\n",
       "<style scoped>\n",
       "    .dataframe tbody tr th:only-of-type {\n",
       "        vertical-align: middle;\n",
       "    }\n",
       "\n",
       "    .dataframe tbody tr th {\n",
       "        vertical-align: top;\n",
       "    }\n",
       "\n",
       "    .dataframe thead th {\n",
       "        text-align: right;\n",
       "    }\n",
       "</style>\n",
       "<table border=\"1\" class=\"dataframe\">\n",
       "  <thead>\n",
       "    <tr style=\"text-align: right;\">\n",
       "      <th></th>\n",
       "      <th>value</th>\n",
       "      <th>year</th>\n",
       "      <th>month</th>\n",
       "      <th>day</th>\n",
       "      <th>hour</th>\n",
       "      <th>minute</th>\n",
       "      <th>second</th>\n",
       "      <th>millisecond</th>\n",
       "      <th>Value Range</th>\n",
       "    </tr>\n",
       "  </thead>\n",
       "  <tbody>\n",
       "    <tr>\n",
       "      <th>0</th>\n",
       "      <td>43.09</td>\n",
       "      <td>2025</td>\n",
       "      <td>1</td>\n",
       "      <td>1</td>\n",
       "      <td>0</td>\n",
       "      <td>0</td>\n",
       "      <td>21</td>\n",
       "      <td>0</td>\n",
       "      <td>40-49</td>\n",
       "    </tr>\n",
       "    <tr>\n",
       "      <th>1</th>\n",
       "      <td>43.63</td>\n",
       "      <td>2025</td>\n",
       "      <td>1</td>\n",
       "      <td>1</td>\n",
       "      <td>0</td>\n",
       "      <td>1</td>\n",
       "      <td>21</td>\n",
       "      <td>0</td>\n",
       "      <td>40-49</td>\n",
       "    </tr>\n",
       "    <tr>\n",
       "      <th>2</th>\n",
       "      <td>40.18</td>\n",
       "      <td>2025</td>\n",
       "      <td>1</td>\n",
       "      <td>1</td>\n",
       "      <td>0</td>\n",
       "      <td>1</td>\n",
       "      <td>42</td>\n",
       "      <td>0</td>\n",
       "      <td>40-49</td>\n",
       "    </tr>\n",
       "    <tr>\n",
       "      <th>3</th>\n",
       "      <td>44.20</td>\n",
       "      <td>2025</td>\n",
       "      <td>1</td>\n",
       "      <td>1</td>\n",
       "      <td>0</td>\n",
       "      <td>2</td>\n",
       "      <td>21</td>\n",
       "      <td>0</td>\n",
       "      <td>40-49</td>\n",
       "    </tr>\n",
       "    <tr>\n",
       "      <th>4</th>\n",
       "      <td>40.87</td>\n",
       "      <td>2025</td>\n",
       "      <td>1</td>\n",
       "      <td>1</td>\n",
       "      <td>0</td>\n",
       "      <td>2</td>\n",
       "      <td>41</td>\n",
       "      <td>0</td>\n",
       "      <td>40-49</td>\n",
       "    </tr>\n",
       "  </tbody>\n",
       "</table>\n",
       "</div>"
      ],
      "text/plain": [
       "   value  year  month  day  hour  minute  second  millisecond Value Range\n",
       "0  43.09  2025      1    1     0       0      21            0       40-49\n",
       "1  43.63  2025      1    1     0       1      21            0       40-49\n",
       "2  40.18  2025      1    1     0       1      42            0       40-49\n",
       "3  44.20  2025      1    1     0       2      21            0       40-49\n",
       "4  40.87  2025      1    1     0       2      41            0       40-49"
      ]
     },
     "execution_count": 269,
     "metadata": {},
     "output_type": "execute_result"
    }
   ],
   "source": [
    "# Ensure data is sorted before training\n",
    "df = df.sort_values(by=['year', 'month', 'day', 'hour', 'minute', 'second', 'millisecond']).reset_index(drop=True)\n",
    "df.head()\n"
   ]
  },
  {
   "cell_type": "code",
   "execution_count": 270,
   "metadata": {},
   "outputs": [
    {
     "name": "stdout",
     "output_type": "stream",
     "text": [
      "Missing Values per Column:\n",
      "value          0\n",
      "year           0\n",
      "month          0\n",
      "day            0\n",
      "hour           0\n",
      "minute         0\n",
      "second         0\n",
      "millisecond    0\n",
      "Value Range    0\n",
      "dtype: int64\n"
     ]
    }
   ],
   "source": [
    "# missing values\n",
    "missing_values = df.isnull().sum()\n",
    "print(\"Missing Values per Column:\")\n",
    "print(missing_values)"
   ]
  },
  {
   "cell_type": "code",
   "execution_count": 271,
   "metadata": {},
   "outputs": [],
   "source": [
    "# 85% train, 15% test\n",
    "X_train, X_test, y_train, y_test = train_test_split(X, y, test_size=0.2, random_state=42)\n"
   ]
  },
  {
   "cell_type": "code",
   "execution_count": 272,
   "metadata": {},
   "outputs": [],
   "source": [
    "# standardize features (x)\n",
    "scaler = StandardScaler()\n",
    "X_train_scaled = scaler.fit_transform(X_train)\n",
    "X_test_scaled = scaler.transform(X_test)"
   ]
  },
  {
   "cell_type": "code",
   "execution_count": 253,
   "metadata": {},
   "outputs": [
    {
     "name": "stdout",
     "output_type": "stream",
     "text": [
      "Scaler saved successfully!\n"
     ]
    }
   ],
   "source": [
    "import joblib\n",
    "\n",
    "# Save the scaler\n",
    "joblib.dump(scaler, r\"C:\\Users\\Sarah\\Desktop\\trend_analysis\\model\\scaler.pkl\")\n",
    "print(\"Scaler saved successfully!\")\n"
   ]
  },
  {
   "cell_type": "code",
   "execution_count": 273,
   "metadata": {},
   "outputs": [],
   "source": [
    "# Wrap the scaled arrays with the original feature names\n",
    "X_train_scaled = pd.DataFrame(X_train_scaled, columns=X_train.columns)\n",
    "X_test_scaled = pd.DataFrame(X_test_scaled, columns=X_test.columns)"
   ]
  },
  {
   "cell_type": "code",
   "execution_count": null,
   "metadata": {},
   "outputs": [],
   "source": [
    "# Initializing base models\n",
    "rf_model = RandomForestRegressor(n_estimators=100, random_state=42)\n",
    "lr_model = LinearRegression()\n",
    "\n",
    "# Creating the stacked model\n",
    "stacked_model = StackingRegressor(estimators=[('rf', rf_model), ('lr', lr_model)])\n",
    "\n",
    "# train\n",
    "stacked_model.fit(X_train_scaled, y_train)\n"
   ]
  },
  {
   "cell_type": "code",
   "execution_count": null,
   "metadata": {},
   "outputs": [
    {
     "name": "stdout",
     "output_type": "stream",
     "text": [
      "Accuracy: 0.9029053565770556\n"
     ]
    }
   ],
   "source": [
    "accuracy = stacked_model.score(X_test_scaled, y_test)\n",
    "print(\"Accuracy:\", accuracy)"
   ]
  },
  {
   "cell_type": "code",
   "execution_count": 275,
   "metadata": {},
   "outputs": [
    {
     "name": "stdout",
     "output_type": "stream",
     "text": [
      "RandomForestRegressor(n_estimators=50, random_state=42)\n"
     ]
    }
   ],
   "source": [
    "# train\n",
    "from sklearn.ensemble import RandomForestRegressor\n",
    "\n",
    "model = RandomForestRegressor(n_estimators=50,\n",
    "                              random_state=42)\n",
    "model.fit(X_train_scaled, y_train)\n",
    "print(model)\n"
   ]
  },
  {
   "cell_type": "code",
   "execution_count": null,
   "metadata": {},
   "outputs": [],
   "source": [
    "from sklearn.model_selection import cross_val_score\n",
    "# R-squared score\n",
    "train_score = model.score(X_train_scaled, y_train)\n",
    "test_score = model.score(X_test_scaled, y_test)\n",
    "\n",
    "# Cross-validation\n",
    "cv_scores = cross_val_score(model, X_train_scaled, y_train, cv=5)\n",
    "\n",
    "print(f\"Train R-squared: {train_score:.4f}\")\n",
    "print(f\"Test R-squared: {test_score:.4f}\")\n",
    "print(f\"Cross-validation score: {cv_scores.mean():.4f}\")\n"
   ]
  },
  {
   "cell_type": "code",
   "execution_count": 259,
   "metadata": {},
   "outputs": [
    {
     "name": "stdout",
     "output_type": "stream",
     "text": [
      "       Actual  Predicted\n",
      "46892   31.89    32.2666\n",
      "46893   30.69    30.7196\n",
      "46894   43.49    43.4910\n",
      "46895   51.95    50.1848\n",
      "46896   23.69    23.7970\n",
      "46897   55.73    55.8020\n",
      "46898   31.46    32.2174\n",
      "46899   31.42    31.4250\n",
      "46900   32.81    33.8914\n",
      "46901   51.51    51.6372\n"
     ]
    }
   ],
   "source": [
    "# Predict on test set\n",
    "y_pred = model.predict(X_test_scaled)\n",
    "\n",
    "# Show some predictions\n",
    "df_predictions = pd.DataFrame({'Actual': y_test.values, 'Predicted': y_pred})\n",
    "print(df_predictions.tail(10))\n"
   ]
  },
  {
   "cell_type": "code",
   "execution_count": 260,
   "metadata": {},
   "outputs": [
    {
     "name": "stdout",
     "output_type": "stream",
     "text": [
      "Model saved successfully!\n"
     ]
    }
   ],
   "source": [
    "import joblib\n",
    "\n",
    "# Save the trained model\n",
    "joblib.dump(model, r\"C:\\Users\\Sarah\\Desktop\\trend_analysis\\model\\random_forest_model2.pkl\")\n",
    "\n",
    "print(\"Model saved successfully!\")\n"
   ]
  },
  {
   "cell_type": "code",
   "execution_count": 39,
   "metadata": {},
   "outputs": [
    {
     "name": "stdout",
     "output_type": "stream",
     "text": [
      "Model loaded successfully!\n"
     ]
    }
   ],
   "source": [
    "# Load the model\n",
    "loaded_model = joblib.load(r\"C:\\Users\\Sarah\\Desktop\\trend_analysis\\model\\random_forest_model.pkl\")\n",
    "\n",
    "print(\"Model loaded successfully!\")\n",
    "\n",
    "# Now you can make predictions using the loaded model\n",
    "y_pred = loaded_model.predict(X_test)\n"
   ]
  },
  {
   "cell_type": "code",
   "execution_count": null,
   "metadata": {},
   "outputs": [],
   "source": [
    "import matplotlib.pyplot as plt\n",
    "import seaborn as sns\n",
    "import numpy as np\n",
    "from datetime import datetime, timedelta\n",
    "\n",
    "# Convert X_test back to DataFrame with column names\n",
    "X_test_df = pd.DataFrame(X_test, columns=['year', 'month', 'day', 'hour', 'minute', 'second', 'millisecond'])\n",
    "X_test_df['Actual'] = y_test.values\n",
    "X_test_df['Predicted'] = y_pred\n",
    "\n",
    "# Group by day (calculate average actual and predicted value per day)\n",
    "daily_avg = X_test_df.groupby(['year', 'month', 'day'])[['Actual', 'Predicted']].mean().reset_index()\n",
    "\n",
    "# Create date column for plotting\n",
    "daily_avg['date'] = pd.to_datetime(daily_avg[['year', 'month', 'day']])\n",
    "\n",
    "### 📌 Generate Future Dates for Prediction\n",
    "future_days = 7  # Predict next 7 days\n",
    "last_date = daily_avg['date'].max()\n",
    "future_dates = [last_date + timedelta(days=i) for i in range(1, future_days + 1)]\n",
    "\n",
    "# Create future DataFrame\n",
    "future_df = pd.DataFrame({\n",
    "    'year': [d.year for d in future_dates],\n",
    "    'month': [d.month for d in future_dates],\n",
    "    'day': [d.day for d in future_dates],\n",
    "    'hour': [0] * future_days,  # Assuming midnight for simplicity\n",
    "    'minute': [0] * future_days,\n",
    "    'second': [0] * future_days,\n",
    "    'millisecond': [0] * future_days\n",
    "})\n",
    "\n",
    "# Standardize future data\n",
    "future_scaled = scaler.transform(future_df)\n",
    "\n",
    "# Predict future water pressure\n",
    "future_df['Predicted'] = model.predict(future_scaled)\n",
    "future_df['date'] = future_dates  # Assign future date column\n",
    "\n",
    "# Append future predictions to daily_avg\n",
    "extended_df = pd.concat([daily_avg, future_df], ignore_index=True)\n",
    "\n",
    "### 📌 Plot Actual vs. Predicted (with Future Predictions)\n",
    "plt.figure(figsize=(12, 6))\n",
    "sns.lineplot(data=extended_df, x='date', y='Actual', label='Actual', marker='o', linewidth=2, color='blue')\n",
    "sns.lineplot(data=extended_df, x='date', y='Predicted', label='Predicted (Including Future)', marker='s', linewidth=2, linestyle='dashed', color='red')\n",
    "\n",
    "# Format the plot\n",
    "plt.xlabel(\"Date\")\n",
    "plt.ylabel(\"Water Pressure\")\n",
    "plt.title(\"Actual vs. Predicted Water Pressure Trends (with Future Predictions)\")\n",
    "plt.legend()\n",
    "plt.grid(True)\n",
    "plt.xticks(rotation=45)\n",
    "\n",
    "# Show the plot\n",
    "plt.show()\n"
   ]
  }
 ],
 "metadata": {
  "kernelspec": {
   "display_name": "Python 3",
   "language": "python",
   "name": "python3"
  },
  "language_info": {
   "codemirror_mode": {
    "name": "ipython",
    "version": 3
   },
   "file_extension": ".py",
   "mimetype": "text/x-python",
   "name": "python",
   "nbconvert_exporter": "python",
   "pygments_lexer": "ipython3",
   "version": "3.12.9"
  }
 },
 "nbformat": 4,
 "nbformat_minor": 2
}
