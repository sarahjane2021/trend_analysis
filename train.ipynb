{
 "cells": [
  {
   "cell_type": "markdown",
   "metadata": {},
   "source": [
    "# fetch data"
   ]
  },
  {
   "cell_type": "code",
   "execution_count": null,
   "metadata": {},
   "outputs": [
    {
     "name": "stdout",
     "output_type": "stream",
     "text": [
      "Data saved to C:\\Users\\Sarah\\Desktop\\trend_analysis\\data\\pressure_data.csv\n"
     ]
    },
    {
     "name": "stderr",
     "output_type": "stream",
     "text": [
      "C:\\Users\\Sarah\\AppData\\Local\\Temp\\ipykernel_3428\\2815856751.py:30: DeprecationWarning: datetime.datetime.utcfromtimestamp() is deprecated and scheduled for removal in a future version. Use timezone-aware objects to represent datetimes in UTC: datetime.datetime.fromtimestamp(timestamp, datetime.UTC).\n",
      "  utc_time = datetime.utcfromtimestamp(timestamp / 1000)  # Convert from milliseconds to seconds\n"
     ]
    }
   ],
   "source": [
    "import requests\n",
    "import csv\n",
    "from datetime import datetime, timedelta\n",
    "\n",
    "api_url = \"https://neptune.kyogojo.com/api/statistics/get-multiple?stations=BSLG-002&days=1741651200000,1741737600000,1741824000000,1741910400000,1741996800000,1742083200000,1742169600000,1742256000000,1742342400000\"\n",
    "\n",
    "response = requests.get(api_url)\n",
    "data = response.json() \n",
    "\n",
    "pressure_data = data[\"payload\"][\"data\"][0][\"pressure\"]\n",
    "\n",
    "csv_filename = r\"C:\\Users\\Sarah\\Desktop\\trend_analysis\\data\\pressure_data.csv\"\n",
    "\n",
    "# save to CSV\n",
    "with open(csv_filename, mode=\"w\", newline=\"\") as file:\n",
    "    writer = csv.writer(file)\n",
    "    writer.writerow([\"Value\", \"Time (PST, UTC+8)\"])\n",
    "\n",
    "    for entry in pressure_data:\n",
    "        value = entry[\"value\"]\n",
    "        timestamp = entry[\"time\"]\n",
    "        \n",
    "        # convert UTC time to Philippine Standard Time (UTC+8)\n",
    "        utc_time = datetime.utcfromtimestamp(timestamp / 1000)  #milliseconds to seconds\n",
    "        pst_time = utc_time + timedelta(hours=8)  \n",
    "\n",
    "        formatted_time = pst_time.strftime(\"%Y-%m-%d %H:%M:%S\")    \n",
    "        writer.writerow([value, formatted_time])\n",
    "\n",
    "print(f\"Data saved to {csv_filename}\")\n"
   ]
  },
  {
   "cell_type": "markdown",
   "metadata": {},
   "source": [
    "#  data"
   ]
  },
  {
   "cell_type": "code",
   "execution_count": 31,
   "metadata": {},
   "outputs": [
    {
     "data": {
      "text/html": [
       "<div>\n",
       "<style scoped>\n",
       "    .dataframe tbody tr th:only-of-type {\n",
       "        vertical-align: middle;\n",
       "    }\n",
       "\n",
       "    .dataframe tbody tr th {\n",
       "        vertical-align: top;\n",
       "    }\n",
       "\n",
       "    .dataframe thead th {\n",
       "        text-align: right;\n",
       "    }\n",
       "</style>\n",
       "<table border=\"1\" class=\"dataframe\">\n",
       "  <thead>\n",
       "    <tr style=\"text-align: right;\">\n",
       "      <th></th>\n",
       "      <th>value</th>\n",
       "      <th>year</th>\n",
       "      <th>month</th>\n",
       "      <th>day</th>\n",
       "      <th>hour</th>\n",
       "      <th>minute</th>\n",
       "      <th>second</th>\n",
       "      <th>millisecond</th>\n",
       "    </tr>\n",
       "  </thead>\n",
       "  <tbody>\n",
       "    <tr>\n",
       "      <th>0</th>\n",
       "      <td>43.09</td>\n",
       "      <td>2025</td>\n",
       "      <td>1</td>\n",
       "      <td>1</td>\n",
       "      <td>0</td>\n",
       "      <td>0</td>\n",
       "      <td>21</td>\n",
       "      <td>0</td>\n",
       "    </tr>\n",
       "    <tr>\n",
       "      <th>1</th>\n",
       "      <td>43.63</td>\n",
       "      <td>2025</td>\n",
       "      <td>1</td>\n",
       "      <td>1</td>\n",
       "      <td>0</td>\n",
       "      <td>1</td>\n",
       "      <td>21</td>\n",
       "      <td>0</td>\n",
       "    </tr>\n",
       "    <tr>\n",
       "      <th>2</th>\n",
       "      <td>44.20</td>\n",
       "      <td>2025</td>\n",
       "      <td>1</td>\n",
       "      <td>1</td>\n",
       "      <td>0</td>\n",
       "      <td>2</td>\n",
       "      <td>21</td>\n",
       "      <td>0</td>\n",
       "    </tr>\n",
       "    <tr>\n",
       "      <th>3</th>\n",
       "      <td>44.43</td>\n",
       "      <td>2025</td>\n",
       "      <td>1</td>\n",
       "      <td>1</td>\n",
       "      <td>0</td>\n",
       "      <td>3</td>\n",
       "      <td>21</td>\n",
       "      <td>0</td>\n",
       "    </tr>\n",
       "    <tr>\n",
       "      <th>4</th>\n",
       "      <td>42.67</td>\n",
       "      <td>2025</td>\n",
       "      <td>1</td>\n",
       "      <td>1</td>\n",
       "      <td>0</td>\n",
       "      <td>4</td>\n",
       "      <td>21</td>\n",
       "      <td>0</td>\n",
       "    </tr>\n",
       "  </tbody>\n",
       "</table>\n",
       "</div>"
      ],
      "text/plain": [
       "   value  year  month  day  hour  minute  second  millisecond\n",
       "0  43.09  2025      1    1     0       0      21            0\n",
       "1  43.63  2025      1    1     0       1      21            0\n",
       "2  44.20  2025      1    1     0       2      21            0\n",
       "3  44.43  2025      1    1     0       3      21            0\n",
       "4  42.67  2025      1    1     0       4      21            0"
      ]
     },
     "execution_count": 31,
     "metadata": {},
     "output_type": "execute_result"
    }
   ],
   "source": [
    "import pandas as pd\n",
    "import numpy as np\n",
    "from sklearn.model_selection import train_test_split, cross_val_score\n",
    "from sklearn.preprocessing import StandardScaler\n",
    "\n",
    "# data\n",
    "file_path = r\"C:\\Users\\Sarah\\Desktop\\trend_analysis\\data\\water_pressure.csv\"\n",
    "df = pd.read_csv(file_path)\n",
    "\n",
    "# column to datetime\n",
    "df['time'] = pd.to_datetime(df['time'])\n",
    "\n",
    "# extract time features\n",
    "df['year'] = df['time'].dt.year\n",
    "df['month'] = df['time'].dt.month\n",
    "df['day'] = df['time'].dt.day\n",
    "df['hour'] = df['time'].dt.hour\n",
    "df['minute'] = df['time'].dt.minute\n",
    "df['second'] = df['time'].dt.second\n",
    "df['millisecond'] = df['time'].dt.microsecond // 1000  # microseconds to milliseconds\n",
    "\n",
    "# drop time column\n",
    "df.drop(columns=['time'], inplace=True)\n",
    "\n",
    "# Features (X), target variable (y)\n",
    "X = df.drop(columns=['value'])\n",
    "y = df['value']\n",
    "\n",
    "df.head()\n"
   ]
  },
  {
   "cell_type": "code",
   "execution_count": 32,
   "metadata": {},
   "outputs": [],
   "source": [
    "# 85% train, 15% test\n",
    "X_train, X_test, y_train, y_test = train_test_split(X, y, test_size=0.15, random_state=42)\n"
   ]
  },
  {
   "cell_type": "code",
   "execution_count": 38,
   "metadata": {},
   "outputs": [],
   "source": [
    "# standardize features (x)\n",
    "scaler = StandardScaler()\n",
    "X_train_scaled = scaler.fit_transform(X_train)\n",
    "X_test_scaled = scaler.transform(X_test)"
   ]
  },
  {
   "cell_type": "code",
   "execution_count": 34,
   "metadata": {},
   "outputs": [
    {
     "name": "stdout",
     "output_type": "stream",
     "text": [
      "Scaler saved successfully!\n"
     ]
    }
   ],
   "source": [
    "import joblib\n",
    "\n",
    "# Save the scaler\n",
    "joblib.dump(scaler, r\"C:\\Users\\Sarah\\Desktop\\trend_analysis\\model\\scaler.pkl\")\n",
    "print(\"Scaler saved successfully!\")\n"
   ]
  },
  {
   "cell_type": "code",
   "execution_count": 39,
   "metadata": {},
   "outputs": [],
   "source": [
    "# Wrap the scaled arrays with the original feature names\n",
    "X_train_scaled = pd.DataFrame(X_train_scaled, columns=X_train.columns)\n",
    "X_test_scaled = pd.DataFrame(X_test_scaled, columns=X_test.columns)"
   ]
  },
  {
   "cell_type": "code",
   "execution_count": 40,
   "metadata": {},
   "outputs": [
    {
     "name": "stdout",
     "output_type": "stream",
     "text": [
      "RandomForestRegressor(random_state=42)\n"
     ]
    }
   ],
   "source": [
    "\n",
    "# train\n",
    "from sklearn.ensemble import RandomForestRegressor\n",
    "\n",
    "model = RandomForestRegressor(n_estimators=100, random_state=42)\n",
    "model.fit(X_train_scaled, y_train)\n",
    "\n",
    "print(model)\n"
   ]
  },
  {
   "cell_type": "code",
   "execution_count": 41,
   "metadata": {},
   "outputs": [
    {
     "name": "stdout",
     "output_type": "stream",
     "text": [
      "Train R-squared: 0.9994\n",
      "Test R-squared: 0.9956\n",
      "Cross-validation score: 0.9942\n"
     ]
    }
   ],
   "source": [
    "# R-squared score\n",
    "train_score = model.score(X_train_scaled, y_train)\n",
    "test_score = model.score(X_test_scaled, y_test)\n",
    "\n",
    "# Cross-validation\n",
    "cv_scores = cross_val_score(model, X_train_scaled, y_train, cv=5)\n",
    "\n",
    "print(f\"Train R-squared: {train_score:.4f}\")\n",
    "print(f\"Test R-squared: {test_score:.4f}\")\n",
    "print(f\"Cross-validation score: {cv_scores.mean():.4f}\")\n"
   ]
  },
  {
   "cell_type": "code",
   "execution_count": 42,
   "metadata": {},
   "outputs": [
    {
     "name": "stdout",
     "output_type": "stream",
     "text": [
      "   Actual  Predicted\n",
      "0   31.30    31.4216\n",
      "1   54.68    54.5640\n",
      "2   41.30    42.4477\n",
      "3   43.46    43.6453\n",
      "4   45.07    44.5661\n",
      "5   29.19    29.2249\n",
      "6   50.68    51.0055\n",
      "7   40.04    40.2289\n",
      "8   38.64    38.6433\n",
      "9   51.35    50.8536\n"
     ]
    }
   ],
   "source": [
    "# Predict on test set\n",
    "y_pred = model.predict(X_test_scaled)\n",
    "\n",
    "# Show some predictions\n",
    "df_predictions = pd.DataFrame({'Actual': y_test.values, 'Predicted': y_pred})\n",
    "print(df_predictions.head(10))\n"
   ]
  },
  {
   "cell_type": "code",
   "execution_count": 43,
   "metadata": {},
   "outputs": [
    {
     "name": "stderr",
     "output_type": "stream",
     "text": [
      "C:\\Users\\Sarah\\AppData\\Local\\Packages\\PythonSoftwareFoundation.Python.3.12_qbz5n2kfra8p0\\LocalCache\\local-packages\\Python312\\site-packages\\sklearn\\base.py:493: UserWarning: X does not have valid feature names, but RandomForestRegressor was fitted with feature names\n",
      "  warnings.warn(\n"
     ]
    },
    {
     "data": {
      "image/png": "[encoded data removed]",
      "text/plain": [
       "<Figure size 1200x600 with 1 Axes>"
      ]
     },
     "metadata": {},
     "output_type": "display_data"
    }
   ],
   "source": [
    "import matplotlib.pyplot as plt\n",
    "import seaborn as sns\n",
    "import numpy as np\n",
    "from datetime import datetime, timedelta\n",
    "\n",
    "# Convert X_test back to DataFrame with column names\n",
    "X_test_df = pd.DataFrame(X_test, columns=['year', 'month', 'day', 'hour', 'minute', 'second', 'millisecond'])\n",
    "X_test_df['Actual'] = y_test.values\n",
    "X_test_df['Predicted'] = y_pred\n",
    "\n",
    "# Group by day (calculate average actual and predicted value per day)\n",
    "daily_avg = X_test_df.groupby(['year', 'month', 'day'])[['Actual', 'Predicted']].mean().reset_index()\n",
    "\n",
    "# Create date column for plotting\n",
    "daily_avg['date'] = pd.to_datetime(daily_avg[['year', 'month', 'day']])\n",
    "\n",
    "### 📌 Generate Future Dates for Prediction\n",
    "future_days = 7  # Predict next 7 days\n",
    "last_date = daily_avg['date'].max()\n",
    "future_dates = [last_date + timedelta(days=i) for i in range(1, future_days + 1)]\n",
    "\n",
    "# Create future DataFrame\n",
    "future_df = pd.DataFrame({\n",
    "    'year': [d.year for d in future_dates],\n",
    "    'month': [d.month for d in future_dates],\n",
    "    'day': [d.day for d in future_dates],\n",
    "    'hour': [0] * future_days,  # Assuming midnight for simplicity\n",
    "    'minute': [0] * future_days,\n",
    "    'second': [0] * future_days,\n",
    "    'millisecond': [0] * future_days\n",
    "})\n",
    "\n",
    "# Standardize future data\n",
    "future_scaled = scaler.transform(future_df)\n",
    "\n",
    "# Predict future water pressure\n",
    "future_df['Predicted'] = model.predict(future_scaled)\n",
    "future_df['date'] = future_dates  # Assign future date column\n",
    "\n",
    "# Append future predictions to daily_avg\n",
    "extended_df = pd.concat([daily_avg, future_df], ignore_index=True)\n",
    "\n",
    "### 📌 Plot Actual vs. Predicted (with Future Predictions)\n",
    "plt.figure(figsize=(12, 6))\n",
    "sns.lineplot(data=extended_df, x='date', y='Actual', label='Actual', marker='o', linewidth=2, color='blue')\n",
    "sns.lineplot(data=extended_df, x='date', y='Predicted', label='Predicted (Including Future)', marker='s', linewidth=2, linestyle='dashed', color='red')\n",
    "\n",
    "# Format the plot\n",
    "plt.xlabel(\"Date\")\n",
    "plt.ylabel(\"Water Pressure\")\n",
    "plt.title(\"Actual vs. Predicted Water Pressure Trends (with Future Predictions)\")\n",
    "plt.legend()\n",
    "plt.grid(True)\n",
    "plt.xticks(rotation=45)\n",
    "\n",
    "# Show the plot\n",
    "plt.show()\n"
   ]
  },
  {
   "cell_type": "code",
   "execution_count": 44,
   "metadata": {},
   "outputs": [
    {
     "name": "stdout",
     "output_type": "stream",
     "text": [
      "Model saved successfully!\n"
     ]
    }
   ],
   "source": [
    "import joblib\n",
    "\n",
    "# Save the trained model\n",
    "joblib.dump(model, r\"C:\\Users\\Sarah\\Desktop\\trend_analysis\\model\\random_forest_model.pkl\")\n",
    "\n",
    "print(\"Model saved successfully!\")\n"
   ]
  },
  {
   "cell_type": "code",
   "execution_count": 45,
   "metadata": {},
   "outputs": [
    {
     "name": "stdout",
     "output_type": "stream",
     "text": [
      "Model loaded successfully!\n"
     ]
    },
    {
     "name": "stderr",
     "output_type": "stream",
     "text": [
      "C:\\Users\\Sarah\\AppData\\Local\\Packages\\PythonSoftwareFoundation.Python.3.12_qbz5n2kfra8p0\\LocalCache\\local-packages\\Python312\\site-packages\\sklearn\\base.py:486: UserWarning: X has feature names, but RandomForestRegressor was fitted without feature names\n",
      "  warnings.warn(\n"
     ]
    }
   ],
   "source": [
    "# Load the model\n",
    "loaded_model = joblib.load(r\"C:\\Users\\Sarah\\Desktop\\trend_analysis\\model\\random_forest_model.pkl\")\n",
    "\n",
    "print(\"Model loaded successfully!\")\n",
    "\n",
    "# Now you can make predictions using the loaded model\n",
    "y_pred = loaded_model.predict(X_test)\n"
   ]
  }
 ],
 "metadata": {
  "kernelspec": {
   "display_name": "Python 3",
   "language": "python",
   "name": "python3"
  },
  "language_info": {
   "codemirror_mode": {
    "name": "ipython",
    "version": 3
   },
   "file_extension": ".py",
   "mimetype": "text/x-python",
   "name": "python",
   "nbconvert_exporter": "python",
   "pygments_lexer": "ipython3",
   "version": "3.12.9"
  }
 },
 "nbformat": 4,
 "nbformat_minor": 2
}
